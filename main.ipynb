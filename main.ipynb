{
 "cells": [
  {
   "cell_type": "markdown",
   "metadata": {},
   "source": [
    "File where code is written, tested, and integrated. \\\n",
    "Middlebury Stereo Datasets: https://vision.middlebury.edu/stereo/data/"
   ]
  },
  {
   "cell_type": "code",
   "execution_count": 1,
   "metadata": {},
   "outputs": [],
   "source": [
    "import cv2\n",
    "import numpy as np\n",
    "import sklearn \n",
    "import igraph\n",
    "import matplotlib.pyplot as plt"
   ]
  },
  {
   "cell_type": "code",
   "execution_count": 2,
   "metadata": {},
   "outputs": [],
   "source": [
    "class Configuration:\n",
    "    def __init__(self, size, max_disparity):\n",
    "        self.size = size\n",
    "        self.max_disparity = max_disparity\n",
    "        self.config_map = np.zeros((size[0]* size[1], max_disparity))\n"
   ]
  },
  {
   "cell_type": "code",
   "execution_count": 17,
   "metadata": {},
   "outputs": [],
   "source": [
    "class Energy:\n",
    "    def __init__(self):\n",
    "        self.graph = None\n",
    "        self.a_to_id = {}\n",
    "        self.id_to_a = ['source', 'sink']\n",
    "        self.Econst = 0\n",
    "        self.Gconst = 0\n",
    "        #igraph requires \"preprocessing\" to initialize edge with weights\n",
    "        #see https://igraph.org/python/doc/tutorial/generation.html \"From nodes to edges\" for more detail\n",
    "        self.vertex_num = 2 # source vertex:0, terminal vertex:1\n",
    "        self.edges = []\n",
    "        self.capacity = []\n",
    "\n",
    "    def get_node_id(self, x)->int: \n",
    "        return self.a_to_id[x]\n",
    "    \n",
    "    # Add a new binary variable as a node\n",
    "    def add_node(self, x, E0=0, E1=0)->int:\n",
    "        x_id = self.vertex_num\n",
    "        self.a_to_id[x] = x_id\n",
    "        self.id_to_a.append(x)\n",
    "        self.vertex_num += 1\n",
    "        self.add_term1(x_id, E0,E1)\n",
    "        return x_id\n",
    "\n",
    "    # Add a constant to the energy function\n",
    "    def add_constant(self, E)->None:\n",
    "        self.Gconst += E\n",
    "        return\n",
    "\n",
    "    # Add a term E(x) of one binary variable to the energy function,\n",
    "    # where E(0) = E0, E(1) = E1. E0 and E1 can be arbitrary.\n",
    "    def add_term1(self, x_id, E0, E1)->None:\n",
    "        self.edges.extend(([0,x_id], [x_id,1]))\n",
    "        if(E0 > E1):\n",
    "            self.capacity.extend((0, E0-E1))\n",
    "        else:\n",
    "            self.capacity.extend((E1-E0, 0))\n",
    "        self.add_constant(np.min((E0,E1)))\n",
    "        return\n",
    "    \n",
    "    # Add a  term E(x, y) of two binary variables to the energy function,\n",
    "    # where E(0, 0) = A, E(0, 1) = B, E(1, 0) = C, E(1, 1) = D.\n",
    "    # The term must be regular, i.e. E00 + E11 <= E01 + E10\n",
    "    def add_term2(self, x_id, y_id, E00, E01, E10, E11)->None:\n",
    "        # E = A B = B B + A-B 0 +    0    0\n",
    "        #     C D   D D   A-B 0   B+C-A-D 0\n",
    "        self.add_term1(x_id, E01, E11)\n",
    "        self.add_term1(y_id, E00 - E01, 0)\n",
    "        self.edges.extend(([x_id, y_id], [y_id, x_id]))\n",
    "        self.capacity.extend((0, E01 + E10 - E00 - E11))\n",
    "        return\n",
    "\n",
    "    # Forbid (x, y) = (0, 1) by putting infinite value to\n",
    "    # the edge from x to y\n",
    "    def forbid01(self, x_id, y_id)->None:\n",
    "        self.edges.extend(([x_id, y_id], [y_id, x_id]))\n",
    "        self.capacity.extend((np.inf, 0))\n",
    "        return\n",
    "    \n",
    "    def minimize(self)->int:\n",
    "        self.graph = igraph.Graph(\n",
    "            n = self.vertex_num,\n",
    "            edges = self.edges,\n",
    "            edge_attrs={'weight':self.capacity,\n",
    "                        'label':self.capacity,\n",
    "                        'curved': np.ones_like(self.capacity)},\n",
    "            vertex_attrs={'label':self.id_to_a},\n",
    "            directed = True\n",
    "        )\n",
    "        print(\"self.capacity\",self.capacity)\n",
    "        print(\"self.edges\",self.edges)\n",
    "        self.mincut = self.graph.mincut(source = 0, target = 1, capacity=\"weight\")\n",
    "        print(\"self.mincut.value\",self.mincut.value)\n",
    "        print(\"self.Econst\",self.Econst)\n",
    "        return self.mincut.value + self.Gconst\n",
    "    \n",
    "    def visualize(self):\n",
    "        visual_style = {}\n",
    "        out_name = \"graph.png\"\n",
    "        # Set bbox and margin\n",
    "        visual_style[\"bbox\"] = (400,400)\n",
    "        visual_style[\"margin\"] = 27\n",
    "        # Set vertex colours\n",
    "        visual_style[\"vertex_color\"] = 'white'\n",
    "        # Set vertex size\n",
    "        visual_style[\"vertex_size\"] = 45\n",
    "        # Set vertex lable size\n",
    "        visual_style[\"vertex_label_size\"] = 22\n",
    "        # # Don't curve the edges\n",
    "        visual_style[\"edge_curved\"] = False\n",
    "        # Set the layout\n",
    "        my_layout = self.graph.layout_lgl()\n",
    "        visual_style[\"layout\"] = my_layout\n",
    "        # Plot the graph\n",
    "        return(igraph.plot(self.graph, **visual_style))"
   ]
  },
  {
   "cell_type": "code",
   "execution_count": 18,
   "metadata": {},
   "outputs": [
    {
     "name": "stdout",
     "output_type": "stream",
     "text": [
      "self.capacity [0, 0, 0, 0, 0, 0, 1, 0, 0, 2, 0, 3, 0, 4, 0, 0, 0, 4, 0, 5, 5, 0, 0, 10]\n",
      "self.edges [[0, 2], [2, 1], [0, 3], [3, 1], [0, 4], [4, 1], [0, 2], [2, 1], [0, 3], [3, 1], [0, 4], [4, 1], [0, 2], [2, 1], [0, 3], [3, 1], [2, 3], [3, 2], [0, 3], [3, 1], [0, 4], [4, 1], [3, 4], [4, 3]]\n",
      "self.mincut.value 6.0\n",
      "self.Econst 0\n"
     ]
    },
    {
     "data": {
      "text/plain": [
       "-5.0"
      ]
     },
     "execution_count": 18,
     "metadata": {},
     "output_type": "execute_result"
    }
   ],
   "source": [
    "e = Energy()\n",
    "#E(x, y, z) = x - 2*y + 3*(1-z) - 4*x*y + 5*|y-z|\n",
    "x = e.add_node('x')\n",
    "y = e.add_node('y')\n",
    "z = e.add_node('z')\n",
    "\n",
    "e.add_term1(x, 0, 1)\n",
    "e.add_term1(y, 0, -2)\n",
    "e.add_term1(z, 3, 0)\n",
    "\n",
    "e.add_term2(x, y, 0, 0, 0, -4)\n",
    "e.add_term2(y, z, 0, 5, 5, 0)\n",
    "e.minimize()"
   ]
  },
  {
   "cell_type": "code",
   "execution_count": 11,
   "metadata": {},
   "outputs": [
    {
     "name": "stdout",
     "output_type": "stream",
     "text": [
      "[0, 0, 1, 0]\n"
     ]
    }
   ],
   "source": [
    "print(e.graph.es['weight'])"
   ]
  },
  {
   "cell_type": "code",
   "execution_count": 112,
   "metadata": {},
   "outputs": [
    {
     "name": "stdout",
     "output_type": "stream",
     "text": [
      "[[0, 2, 3, 4], [1]]\n"
     ]
    }
   ],
   "source": [
    "print(e.mincut.partition)"
   ]
  },
  {
   "cell_type": "code",
   "execution_count": 119,
   "metadata": {},
   "outputs": [
    {
     "data": {
      "image/svg+xml": "<?xml version=\"1.0\" encoding=\"UTF-8\"?>\n<svg xmlns=\"http://www.w3.org/2000/svg\" xmlns:xlink=\"http://www.w3.org/1999/xlink\" width=\"400pt\" height=\"400pt\" viewBox=\"0 0 400 400\" version=\"1.1\">\n<defs>\n<g>\n<symbol overflow=\"visible\" id=\"glyph0-0\">\n<path style=\"stroke:none;\" d=\"M 2.75 0 L 2.75 -13.75 L 13.75 -13.75 L 13.75 0 Z M 3.09375 -0.34375 L 13.40625 -0.34375 L 13.40625 -13.40625 L 3.09375 -13.40625 Z M 3.09375 -0.34375 \"/>\n</symbol>\n<symbol overflow=\"visible\" id=\"glyph0-1\">\n<path style=\"stroke:none;\" d=\"M 0.675781 -3.40625 L 2.589844 -3.707031 C 2.695313 -2.9375 2.992188 -2.347656 3.484375 -1.941406 C 3.972656 -1.53125 4.660156 -1.328125 5.542969 -1.332031 C 6.429688 -1.328125 7.085938 -1.511719 7.519531 -1.875 C 7.945313 -2.234375 8.160156 -2.65625 8.164063 -3.148438 C 8.160156 -3.582031 7.972656 -3.925781 7.59375 -4.179688 C 7.328125 -4.347656 6.667969 -4.566406 5.617188 -4.835938 C 4.199219 -5.1875 3.214844 -5.496094 2.667969 -5.761719 C 2.117188 -6.019531 1.703125 -6.382813 1.421875 -6.847656 C 1.136719 -7.304688 0.996094 -7.816406 1 -8.378906 C 0.996094 -8.886719 1.113281 -9.355469 1.347656 -9.789063 C 1.578125 -10.222656 1.894531 -10.582031 2.296875 -10.871094 C 2.597656 -11.089844 3.007813 -11.277344 3.527344 -11.433594 C 4.046875 -11.582031 4.601563 -11.660156 5.199219 -11.664063 C 6.089844 -11.660156 6.875 -11.53125 7.554688 -11.277344 C 8.226563 -11.015625 8.726563 -10.667969 9.054688 -10.230469 C 9.375 -9.789063 9.597656 -9.199219 9.722656 -8.464844 L 7.832031 -8.207031 C 7.742188 -8.789063 7.492188 -9.246094 7.085938 -9.582031 C 6.671875 -9.910156 6.089844 -10.078125 5.339844 -10.078125 C 4.449219 -10.078125 3.816406 -9.929688 3.4375 -9.636719 C 3.054688 -9.339844 2.863281 -8.996094 2.867188 -8.605469 C 2.863281 -8.351563 2.945313 -8.125 3.105469 -7.929688 C 3.261719 -7.71875 3.507813 -7.546875 3.84375 -7.414063 C 4.039063 -7.335938 4.609375 -7.171875 5.554688 -6.917969 C 6.921875 -6.550781 7.875 -6.25 8.414063 -6.019531 C 8.953125 -5.785156 9.375 -5.449219 9.6875 -5.003906 C 9.992188 -4.558594 10.148438 -4.007813 10.152344 -3.351563 C 10.148438 -2.703125 9.960938 -2.09375 9.585938 -1.527344 C 9.210938 -0.957031 8.667969 -0.515625 7.960938 -0.207031 C 7.25 0.105469 6.449219 0.257813 5.554688 0.257813 C 4.070313 0.257813 2.9375 -0.046875 2.164063 -0.664063 C 1.382813 -1.277344 0.886719 -2.191406 0.675781 -3.40625 Z M 0.675781 -3.40625 \"/>\n</symbol>\n<symbol overflow=\"visible\" id=\"glyph0-2\">\n<path style=\"stroke:none;\" d=\"M 0.730469 -5.703125 C 0.726563 -7.8125 1.3125 -9.378906 2.492188 -10.398438 C 3.46875 -11.238281 4.664063 -11.660156 6.078125 -11.664063 C 7.644531 -11.660156 8.929688 -11.144531 9.925781 -10.121094 C 10.917969 -9.089844 11.414063 -7.671875 11.417969 -5.867188 C 11.414063 -4.394531 11.195313 -3.242188 10.757813 -2.402344 C 10.316406 -1.558594 9.675781 -0.902344 8.835938 -0.441406 C 7.992188 0.0273438 7.070313 0.257813 6.078125 0.257813 C 4.476563 0.257813 3.1875 -0.253906 2.207031 -1.277344 C 1.21875 -2.300781 0.726563 -3.773438 0.730469 -5.703125 Z M 2.71875 -5.703125 C 2.71875 -4.238281 3.035156 -3.144531 3.671875 -2.421875 C 4.308594 -1.691406 5.109375 -1.328125 6.078125 -1.332031 C 7.035156 -1.328125 7.835938 -1.695313 8.472656 -2.425781 C 9.109375 -3.15625 9.425781 -4.269531 9.429688 -5.769531 C 9.425781 -7.175781 9.105469 -8.242188 8.46875 -8.972656 C 7.824219 -9.699219 7.027344 -10.066406 6.078125 -10.066406 C 5.109375 -10.066406 4.308594 -9.703125 3.671875 -8.980469 C 3.035156 -8.253906 2.71875 -7.160156 2.71875 -5.703125 Z M 2.71875 -5.703125 \"/>\n</symbol>\n<symbol overflow=\"visible\" id=\"glyph0-3\">\n<path style=\"stroke:none;\" d=\"M 8.925781 0 L 8.925781 -1.675781 C 8.035156 -0.386719 6.828125 0.257813 5.304688 0.257813 C 4.628906 0.257813 4.003906 0.128906 3.421875 -0.128906 C 2.835938 -0.386719 2.402344 -0.710938 2.121094 -1.101563 C 1.835938 -1.492188 1.636719 -1.96875 1.523438 -2.535156 C 1.445313 -2.914063 1.40625 -3.515625 1.40625 -4.339844 L 1.40625 -11.40625 L 3.339844 -11.40625 L 3.339844 -5.082031 C 3.339844 -4.066406 3.378906 -3.386719 3.460938 -3.039063 C 3.578125 -2.527344 3.835938 -2.128906 4.230469 -1.839844 C 4.625 -1.550781 5.113281 -1.40625 5.695313 -1.40625 C 6.273438 -1.40625 6.816406 -1.554688 7.324219 -1.851563 C 7.832031 -2.148438 8.191406 -2.550781 8.40625 -3.066406 C 8.613281 -3.574219 8.71875 -4.320313 8.722656 -5.296875 L 8.722656 -11.40625 L 10.65625 -11.40625 L 10.65625 0 Z M 8.925781 0 \"/>\n</symbol>\n<symbol overflow=\"visible\" id=\"glyph0-4\">\n<path style=\"stroke:none;\" d=\"M 1.429688 0 L 1.429688 -11.40625 L 3.167969 -11.40625 L 3.167969 -9.679688 C 3.609375 -10.484375 4.019531 -11.015625 4.398438 -11.277344 C 4.769531 -11.53125 5.183594 -11.660156 5.640625 -11.664063 C 6.289063 -11.660156 6.949219 -11.453125 7.625 -11.042969 L 6.960938 -9.25 C 6.484375 -9.527344 6.011719 -9.667969 5.542969 -9.667969 C 5.121094 -9.667969 4.738281 -9.539063 4.402344 -9.285156 C 4.0625 -9.03125 3.824219 -8.679688 3.683594 -8.226563 C 3.46875 -7.539063 3.363281 -6.785156 3.363281 -5.972656 L 3.363281 0 Z M 1.429688 0 \"/>\n</symbol>\n<symbol overflow=\"visible\" id=\"glyph0-5\">\n<path style=\"stroke:none;\" d=\"M 8.894531 -4.179688 L 10.796875 -3.929688 C 10.585938 -2.617188 10.054688 -1.589844 9.199219 -0.851563 C 8.34375 -0.109375 7.292969 0.257813 6.046875 0.257813 C 4.484375 0.257813 3.226563 -0.25 2.28125 -1.273438 C 1.328125 -2.289063 0.855469 -3.753906 0.859375 -5.660156 C 0.855469 -6.890625 1.058594 -7.96875 1.472656 -8.894531 C 1.878906 -9.816406 2.5 -10.507813 3.335938 -10.972656 C 4.164063 -11.429688 5.074219 -11.660156 6.058594 -11.664063 C 7.296875 -11.660156 8.308594 -11.347656 9.097656 -10.722656 C 9.882813 -10.097656 10.386719 -9.207031 10.613281 -8.054688 L 8.734375 -7.765625 C 8.550781 -8.527344 8.234375 -9.105469 7.78125 -9.496094 C 7.328125 -9.882813 6.777344 -10.078125 6.132813 -10.078125 C 5.15625 -10.078125 4.363281 -9.726563 3.757813 -9.027344 C 3.148438 -8.328125 2.847656 -7.222656 2.847656 -5.714844 C 2.847656 -4.175781 3.140625 -3.0625 3.726563 -2.371094 C 4.3125 -1.675781 5.078125 -1.328125 6.027344 -1.332031 C 6.78125 -1.328125 7.414063 -1.5625 7.925781 -2.027344 C 8.433594 -2.492188 8.757813 -3.207031 8.894531 -4.179688 Z M 8.894531 -4.179688 \"/>\n</symbol>\n<symbol overflow=\"visible\" id=\"glyph0-6\">\n<path style=\"stroke:none;\" d=\"M 9.257813 -3.671875 L 11.257813 -3.425781 C 10.9375 -2.257813 10.355469 -1.351563 9.503906 -0.707031 C 8.652344 -0.0625 7.5625 0.257813 6.242188 0.257813 C 4.570313 0.257813 3.246094 -0.253906 2.269531 -1.28125 C 1.289063 -2.308594 0.800781 -3.75 0.804688 -5.609375 C 0.800781 -7.523438 1.296875 -9.011719 2.285156 -10.074219 C 3.273438 -11.128906 4.554688 -11.660156 6.132813 -11.664063 C 7.65625 -11.660156 8.902344 -11.140625 9.871094 -10.105469 C 10.835938 -9.066406 11.320313 -7.605469 11.320313 -5.726563 C 11.320313 -5.609375 11.316406 -5.4375 11.3125 -5.210938 L 2.804688 -5.210938 C 2.871094 -3.953125 3.226563 -2.992188 3.867188 -2.328125 C 4.503906 -1.660156 5.296875 -1.328125 6.25 -1.332031 C 6.957031 -1.328125 7.5625 -1.515625 8.066406 -1.890625 C 8.566406 -2.261719 8.964844 -2.855469 9.257813 -3.671875 Z M 2.910156 -6.800781 L 9.28125 -6.800781 C 9.195313 -7.757813 8.949219 -8.476563 8.550781 -8.960938 C 7.929688 -9.703125 7.132813 -10.078125 6.15625 -10.078125 C 5.265625 -10.078125 4.519531 -9.777344 3.914063 -9.183594 C 3.308594 -8.585938 2.972656 -7.792969 2.910156 -6.800781 Z M 2.910156 -6.800781 \"/>\n</symbol>\n<symbol overflow=\"visible\" id=\"glyph0-7\">\n<path style=\"stroke:none;\" d=\"M 1.460938 -13.523438 L 1.460938 -15.75 L 3.394531 -15.75 L 3.394531 -13.523438 Z M 1.460938 0 L 1.460938 -11.40625 L 3.394531 -11.40625 L 3.394531 0 Z M 1.460938 0 \"/>\n</symbol>\n<symbol overflow=\"visible\" id=\"glyph0-8\">\n<path style=\"stroke:none;\" d=\"M 1.449219 0 L 1.449219 -11.40625 L 3.191406 -11.40625 L 3.191406 -9.785156 C 4.023438 -11.035156 5.234375 -11.660156 6.820313 -11.664063 C 7.507813 -11.660156 8.136719 -11.535156 8.714844 -11.292969 C 9.289063 -11.042969 9.722656 -10.722656 10.011719 -10.324219 C 10.296875 -9.921875 10.496094 -9.445313 10.613281 -8.894531 C 10.679688 -8.535156 10.714844 -7.90625 10.71875 -7.015625 L 10.71875 0 L 8.789063 0 L 8.789063 -6.9375 C 8.789063 -7.726563 8.710938 -8.316406 8.5625 -8.707031 C 8.40625 -9.097656 8.140625 -9.40625 7.761719 -9.640625 C 7.375 -9.871094 6.925781 -9.988281 6.414063 -9.992188 C 5.589844 -9.988281 4.878906 -9.726563 4.28125 -9.207031 C 3.679688 -8.679688 3.378906 -7.6875 3.382813 -6.230469 L 3.382813 0 Z M 1.449219 0 \"/>\n</symbol>\n<symbol overflow=\"visible\" id=\"glyph0-9\">\n<path style=\"stroke:none;\" d=\"M 1.460938 0 L 1.460938 -15.75 L 3.394531 -15.75 L 3.394531 -6.765625 L 7.96875 -11.40625 L 10.472656 -11.40625 L 6.113281 -7.175781 L 10.914063 0 L 8.53125 0 L 4.757813 -5.832031 L 3.394531 -4.523438 L 3.394531 0 Z M 1.460938 0 \"/>\n</symbol>\n<symbol overflow=\"visible\" id=\"glyph0-10\">\n<path style=\"stroke:none;\" d=\"M 0.160156 0 L 4.328125 -5.929688 L 0.472656 -11.40625 L 2.890625 -11.40625 L 4.640625 -8.734375 C 4.96875 -8.222656 5.234375 -7.796875 5.4375 -7.453125 C 5.75 -7.925781 6.039063 -8.34375 6.304688 -8.710938 L 8.226563 -11.40625 L 10.539063 -11.40625 L 6.59375 -6.039063 L 10.839844 0 L 8.464844 0 L 6.125 -3.546875 L 5.5 -4.5 L 2.503906 0 Z M 0.160156 0 \"/>\n</symbol>\n<symbol overflow=\"visible\" id=\"glyph1-0\">\n<path style=\"stroke:none;\" d=\"M 1.5 0 L 1.5 -7.5 L 7.5 -7.5 L 7.5 0 Z M 1.6875 -0.1875 L 7.3125 -0.1875 L 7.3125 -7.3125 L 1.6875 -7.3125 Z M 1.6875 -0.1875 \"/>\n</symbol>\n<symbol overflow=\"visible\" id=\"glyph1-1\">\n<path style=\"stroke:none;\" d=\"M 0.5 -4.234375 C 0.496094 -5.246094 0.601563 -6.0625 0.8125 -6.6875 C 1.019531 -7.304688 1.328125 -7.785156 1.742188 -8.121094 C 2.148438 -8.457031 2.667969 -8.625 3.296875 -8.625 C 3.757813 -8.625 4.164063 -8.53125 4.511719 -8.347656 C 4.855469 -8.160156 5.140625 -7.890625 5.371094 -7.542969 C 5.59375 -7.191406 5.773438 -6.765625 5.90625 -6.265625 C 6.035156 -5.761719 6.097656 -5.085938 6.101563 -4.234375 C 6.097656 -3.226563 5.996094 -2.414063 5.789063 -1.796875 C 5.578125 -1.175781 5.265625 -0.695313 4.859375 -0.359375 C 4.445313 -0.0195313 3.925781 0.144531 3.296875 0.148438 C 2.464844 0.144531 1.816406 -0.148438 1.347656 -0.742188 C 0.78125 -1.457031 0.496094 -2.621094 0.5 -4.234375 Z M 1.582031 -4.234375 C 1.582031 -2.824219 1.746094 -1.886719 2.074219 -1.417969 C 2.402344 -0.949219 2.808594 -0.714844 3.296875 -0.71875 C 3.777344 -0.714844 4.183594 -0.949219 4.519531 -1.421875 C 4.847656 -1.886719 5.015625 -2.824219 5.015625 -4.234375 C 5.015625 -5.648438 4.847656 -6.589844 4.519531 -7.054688 C 4.183594 -7.515625 3.773438 -7.746094 3.289063 -7.75 C 2.800781 -7.746094 2.414063 -7.542969 2.125 -7.136719 C 1.761719 -6.613281 1.582031 -5.644531 1.582031 -4.234375 Z M 1.582031 -4.234375 \"/>\n</symbol>\n<symbol overflow=\"visible\" id=\"glyph1-2\">\n<path style=\"stroke:none;\" d=\"M 4.46875 0 L 3.414063 0 L 3.414063 -6.71875 C 3.160156 -6.476563 2.828125 -6.234375 2.414063 -5.996094 C 2 -5.75 1.628906 -5.570313 1.304688 -5.449219 L 1.304688 -6.46875 C 1.894531 -6.742188 2.410156 -7.078125 2.851563 -7.476563 C 3.292969 -7.871094 3.605469 -8.253906 3.789063 -8.625 L 4.46875 -8.625 Z M 4.46875 0 \"/>\n</symbol>\n</g>\n</defs>\n<g id=\"surface242\">\n<rect x=\"0\" y=\"0\" width=\"400\" height=\"400\" style=\"fill:rgb(100%,100%,100%);fill-opacity:1;stroke:none;\"/>\n<path style=\"fill:none;stroke-width:1;stroke-linecap:butt;stroke-linejoin:miter;stroke:rgb(26.666667%,26.666667%,26.666667%);stroke-opacity:1;stroke-miterlimit:10;\" d=\"M 373 27 C 242.925781 -18.714844 150.578125 36.769531 189.632813 164.902344 \"/>\n<path style=\" stroke:none;fill-rule:nonzero;fill:rgb(26.666667%,26.666667%,26.666667%);fill-opacity:1;\" d=\"M 193.792969 178.546875 L 185.199219 166.253906 L 194.066406 163.550781 L 193.792969 178.546875 \"/>\n<path style=\"fill:none;stroke-width:1;stroke-linecap:butt;stroke-linejoin:miter;stroke:rgb(26.666667%,26.666667%,26.666667%);stroke-opacity:1;stroke-miterlimit:10;\" d=\"M 200.324219 199.976563 C 74.125 159.003906 27.472656 204.675781 27.101563 336.894531 \"/>\n<path style=\" stroke:none;fill-rule:nonzero;fill:rgb(26.666667%,26.666667%,26.666667%);fill-opacity:1;\" d=\"M 27.0625 351.160156 L 22.464844 336.878906 L 31.738281 336.90625 L 27.0625 351.160156 \"/>\n<path style=\"fill:none;stroke-width:1;stroke-linecap:butt;stroke-linejoin:miter;stroke:rgb(26.666667%,26.666667%,26.666667%);stroke-opacity:1;stroke-miterlimit:10;\" d=\"M 373 27 C 242.925781 -18.714844 150.578125 36.769531 189.632813 164.902344 \"/>\n<path style=\" stroke:none;fill-rule:nonzero;fill:rgb(26.666667%,26.666667%,26.666667%);fill-opacity:1;\" d=\"M 193.792969 178.546875 L 185.199219 166.253906 L 194.066406 163.550781 L 193.792969 178.546875 \"/>\n<path style=\"fill:none;stroke-width:1;stroke-linecap:butt;stroke-linejoin:miter;stroke:rgb(26.666667%,26.666667%,26.666667%);stroke-opacity:1;stroke-miterlimit:10;\" d=\"M 200.324219 199.976563 C 74.125 159.003906 27.472656 204.675781 27.101563 336.894531 \"/>\n<path style=\" stroke:none;fill-rule:nonzero;fill:rgb(26.666667%,26.666667%,26.666667%);fill-opacity:1;\" d=\"M 27.0625 351.160156 L 22.464844 336.878906 L 31.738281 336.90625 L 27.0625 351.160156 \"/>\n<path style=\"fill-rule:nonzero;fill:rgb(100%,100%,100%);fill-opacity:1;stroke-width:1;stroke-linecap:butt;stroke-linejoin:miter;stroke:rgb(0%,0%,0%);stroke-opacity:1;stroke-miterlimit:10;\" d=\"M 395.5 27 C 395.5 39.425781 385.425781 49.5 373 49.5 C 360.574219 49.5 350.5 39.425781 350.5 27 C 350.5 14.574219 360.574219 4.5 373 4.5 C 385.425781 4.5 395.5 14.574219 395.5 27 \"/>\n<path style=\"fill-rule:nonzero;fill:rgb(100%,100%,100%);fill-opacity:1;stroke-width:1;stroke-linecap:butt;stroke-linejoin:miter;stroke:rgb(0%,0%,0%);stroke-opacity:1;stroke-miterlimit:10;\" d=\"M 49.5 373 C 49.5 385.425781 39.425781 395.5 27 395.5 C 14.574219 395.5 4.5 385.425781 4.5 373 C 4.5 360.574219 14.574219 350.5 27 350.5 C 39.425781 350.5 49.5 360.574219 49.5 373 \"/>\n<path style=\"fill-rule:nonzero;fill:rgb(100%,100%,100%);fill-opacity:1;stroke-width:1;stroke-linecap:butt;stroke-linejoin:miter;stroke:rgb(0%,0%,0%);stroke-opacity:1;stroke-miterlimit:10;\" d=\"M 222.824219 199.976563 C 222.824219 212.402344 212.75 222.476563 200.324219 222.476563 C 187.894531 222.476563 177.824219 212.402344 177.824219 199.976563 C 177.824219 187.550781 187.894531 177.476563 200.324219 177.476563 C 212.75 177.476563 222.824219 187.550781 222.824219 199.976563 \"/>\n<g style=\"fill:rgb(0%,0%,0%);fill-opacity:1;\">\n  <use xlink:href=\"#glyph0-1\" x=\"340.101563\" y=\"35.332031\"/>\n  <use xlink:href=\"#glyph0-2\" x=\"351.101563\" y=\"35.332031\"/>\n  <use xlink:href=\"#glyph0-3\" x=\"363.336914\" y=\"35.332031\"/>\n  <use xlink:href=\"#glyph0-4\" x=\"375.572266\" y=\"35.332031\"/>\n  <use xlink:href=\"#glyph0-5\" x=\"382.898438\" y=\"35.332031\"/>\n  <use xlink:href=\"#glyph0-6\" x=\"393.898438\" y=\"35.332031\"/>\n</g>\n<g style=\"fill:rgb(0%,0%,0%);fill-opacity:1;\">\n  <use xlink:href=\"#glyph0-1\" x=\"7.144531\" y=\"383.375\"/>\n  <use xlink:href=\"#glyph0-7\" x=\"18.144531\" y=\"383.375\"/>\n  <use xlink:href=\"#glyph0-8\" x=\"23.032227\" y=\"383.375\"/>\n  <use xlink:href=\"#glyph0-9\" x=\"35.267578\" y=\"383.375\"/>\n</g>\n<g style=\"fill:rgb(0%,0%,0%);fill-opacity:1;\">\n  <use xlink:href=\"#glyph0-10\" x=\"194.824219\" y=\"208.179688\"/>\n</g>\n<g style=\"fill:rgb(0%,0%,0%);fill-opacity:1;\">\n  <use xlink:href=\"#glyph1-1\" x=\"221.296875\" y=\"54.546875\"/>\n</g>\n<g style=\"fill:rgb(0%,0%,0%);fill-opacity:1;\">\n  <use xlink:href=\"#glyph1-1\" x=\"48.28125\" y=\"236.898438\"/>\n</g>\n<g style=\"fill:rgb(0%,0%,0%);fill-opacity:1;\">\n  <use xlink:href=\"#glyph1-2\" x=\"220.488281\" y=\"54.546875\"/>\n</g>\n<g style=\"fill:rgb(0%,0%,0%);fill-opacity:1;\">\n  <use xlink:href=\"#glyph1-1\" x=\"48.28125\" y=\"236.898438\"/>\n</g>\n</g>\n</svg>\n",
      "text/plain": [
       "<igraph.drawing.Plot at 0x175731a8908>"
      ]
     },
     "execution_count": 119,
     "metadata": {
      "image/svg+xml": {
       "isolated": true
      }
     },
     "output_type": "execute_result"
    }
   ],
   "source": [
    "e.visualize()"
   ]
  },
  {
   "cell_type": "code",
   "execution_count": null,
   "metadata": {},
   "outputs": [],
   "source": []
  }
 ],
 "metadata": {
  "interpreter": {
   "hash": "079ac39fb62028004b6c102b21e52b37161204aea65bac7151aba05c8911217c"
  },
  "kernelspec": {
   "display_name": "Python 3.7.9 64-bit",
   "language": "python",
   "name": "python3"
  },
  "language_info": {
   "codemirror_mode": {
    "name": "ipython",
    "version": 3
   },
   "file_extension": ".py",
   "mimetype": "text/x-python",
   "name": "python",
   "nbconvert_exporter": "python",
   "pygments_lexer": "ipython3",
   "version": "3.9.7"
  },
  "orig_nbformat": 4
 },
 "nbformat": 4,
 "nbformat_minor": 2
}
