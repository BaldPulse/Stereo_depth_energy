{
 "cells": [
  {
   "cell_type": "markdown",
   "metadata": {},
   "source": [
    "File where code is written, tested, and integrated. \\\n",
    "Middlebury Stereo Datasets: https://vision.middlebury.edu/stereo/data/"
   ]
  },
  {
   "cell_type": "code",
   "execution_count": 1,
   "metadata": {},
   "outputs": [],
   "source": [
    "import cv2\n",
    "import numpy as np\n",
    "import sklearn \n",
    "import igraph"
   ]
  },
  {
   "cell_type": "code",
   "execution_count": null,
   "metadata": {},
   "outputs": [],
   "source": [
    "class Configuration:\n",
    "    def __init__(self, size, max_disparity):\n",
    "        self.size = size\n",
    "        self.max_disparity = max_disparity\n",
    "        self.config_map = np.zeros((size[0]* size[1], max_disparity))\n"
   ]
  },
  {
   "cell_type": "code",
   "execution_count": 1,
   "metadata": {},
   "outputs": [],
   "source": [
    "class Energy:\n",
    "    def __init__(self):\n",
    "        self.graph = igraph.Graph()\n",
    "        self.graph.add_vertices(2) # source vertex:0, terminal vertex:1\n",
    "        self.node_id = {}\n",
    "        self.Econst = 0\n",
    "        #igraph requires \"preprocessing\" to initialize edge with weights\n",
    "        #see https://igraph.org/python/doc/tutorial/generation.html \"From nodes to edges\" for more detail\n",
    "        self.vertex_num = 2\n",
    "        self.edges = []\n",
    "        self.capacity = []\n",
    "\n",
    "    def get_node_id(self, x)->int: \n",
    "        return self.node_id[x]\n",
    "    \n",
    "    # Add a new binary variable as a node\n",
    "    def add_node(self, x, E0, E1)->int:\n",
    "        x_id = self.vertex_num\n",
    "        self.node_id[x] = x_id\n",
    "        self.vertex_num += 1\n",
    "        self.addterm1(x, E0,E1)\n",
    "        return x_id\n",
    "\n",
    "    # Add a constant to the energy function\n",
    "    def add_constant(self, E)->None:\n",
    "        self.Econst += E\n",
    "        return\n",
    "\n",
    "    # Add a term E(x) of one binary variable to the energy function,\n",
    "    # where E(0) = E0, E(1) = E1. E0 and E1 can be arbitrary.\n",
    "    def add_term1(self, x, E0, E1)->None:\n",
    "        x_id = self.node_id[x]\n",
    "        self.edges.append([0,x_id], [x_id,1])\n",
    "        self.capacity.append([E1], [E0])\n",
    "        return\n",
    "    \n",
    "    # Add a  term E(x, y) of two binary variables to the energy function,\n",
    "    # where E(0, 0) = A, E(0, 1) = B, E(1, 0) = C, E(1, 1) = D.\n",
    "    # The term must be regular, i.e. E00 + E11 <= E01 + E10\n",
    "    def add_term2(self, x, y, E00, E01, E10, E11)->None:\n",
    "        # E = A B = B B + A-B 0 +    0    0\n",
    "        #     C D   D D   A-B 0   B+C-A-D 0\n",
    "        self.add_term1(x, E11, E01)\n",
    "        self.add_term1(y, 0, E00 - E01)\n",
    "\n",
    "        x_id = self.node_id[x]\n",
    "        y_id = self.node_id[y]\n",
    "        self.edges.append([x_id, y_id], [y_id, x_id])\n",
    "        self.capacity.append([0], [E01 + E10 - E00 - E11])\n",
    "        return\n",
    "\n",
    "    # Forbid (x, y) = (0, 1) by putting infinite value to\n",
    "    # the edge from x to y\n",
    "    def forbid01(self, x, y)->None:\n",
    "        x_id = self.node_id[x]\n",
    "        y_id = self.node_id[y]\n",
    "        self.edges.append([x_id, y_id], [y_id, x_id])\n",
    "        self.capacity.append([np.inf], [0])\n",
    "        return\n",
    "    \n",
    "    def minimize(self)->int:\n",
    "        return 0"
   ]
  },
  {
   "cell_type": "code",
   "execution_count": 3,
   "metadata": {},
   "outputs": [],
   "source": [
    "g = igraph.Graph()\n",
    "g.add_vertices(3)\n",
    "g.add_edges([(0,1), (1,2)])"
   ]
  },
  {
   "cell_type": "code",
   "execution_count": 4,
   "metadata": {},
   "outputs": [
    {
     "name": "stdout",
     "output_type": "stream",
     "text": [
      "IGRAPH U--- 3 2 --\n",
      "+ edges:\n",
      "0--1 1--2\n"
     ]
    }
   ],
   "source": [
    "print(g)"
   ]
  },
  {
   "cell_type": "code",
   "execution_count": null,
   "metadata": {},
   "outputs": [],
   "source": []
  }
 ],
 "metadata": {
  "interpreter": {
   "hash": "079ac39fb62028004b6c102b21e52b37161204aea65bac7151aba05c8911217c"
  },
  "kernelspec": {
   "display_name": "Python 3.7.9 64-bit",
   "language": "python",
   "name": "python3"
  },
  "language_info": {
   "codemirror_mode": {
    "name": "ipython",
    "version": 3
   },
   "file_extension": ".py",
   "mimetype": "text/x-python",
   "name": "python",
   "nbconvert_exporter": "python",
   "pygments_lexer": "ipython3",
   "version": "3.9.7"
  },
  "orig_nbformat": 4
 },
 "nbformat": 4,
 "nbformat_minor": 2
}
