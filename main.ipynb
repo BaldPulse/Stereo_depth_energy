{
 "cells": [
  {
   "cell_type": "markdown",
   "metadata": {},
   "source": [
    "File where code is written, tested, and integrated. \\\n",
    "Middlebury Stereo Datasets: https://vision.middlebury.edu/stereo/data/"
   ]
  },
  {
   "cell_type": "code",
   "execution_count": 1,
   "metadata": {},
   "outputs": [],
   "source": [
    "import cv2\n",
    "import numpy as np\n",
    "import sklearn \n",
    "import igraph"
   ]
  },
  {
   "cell_type": "code",
   "execution_count": null,
   "metadata": {},
   "outputs": [],
   "source": [
    "class Configuration:\n",
    "    def __init__(self, size, max_disparity):\n",
    "        self.size = size\n",
    "        self.max_disparity = max_disparity\n",
    "        self.config_map = np.zeros((size[0]* size[1], max_disparity))\n"
   ]
  },
  {
   "cell_type": "code",
   "execution_count": null,
   "metadata": {},
   "outputs": [],
   "source": [
    "class Energy:\n",
    "    def __init__(self):\n",
    "        self.graph = igraph.Graph()\n",
    "        self.node_id = {}\n",
    "\n",
    "    def get_node_id(self, assignment)->int: \n",
    "        return 0\n",
    "    \n",
    "    def add_node(self, E0, E1)->int:\n",
    "        return 0\n",
    "\n",
    "    def add_constant(self, E)->None:\n",
    "        return\n",
    "\n",
    "    def add_term1(self, x, E0, E1)->None:\n",
    "        return\n",
    "    \n",
    "    def add_term2(self, x, y, E00, E01, E10, E11)->None:\n",
    "        return\n",
    "    \n",
    "    def forbid01(self, x, y)->None:\n",
    "        return\n",
    "    \n",
    "    def minimize(self)->int:\n",
    "        return 0"
   ]
  },
  {
   "cell_type": "code",
   "execution_count": 3,
   "metadata": {},
   "outputs": [],
   "source": [
    "g = igraph.Graph()\n",
    "g.add_vertices(3)\n",
    "g.add_edges([(0,1), (1,2)])"
   ]
  },
  {
   "cell_type": "code",
   "execution_count": 4,
   "metadata": {},
   "outputs": [
    {
     "name": "stdout",
     "output_type": "stream",
     "text": [
      "IGRAPH U--- 3 2 --\n",
      "+ edges:\n",
      "0--1 1--2\n"
     ]
    }
   ],
   "source": [
    "print(g)"
   ]
  },
  {
   "cell_type": "code",
   "execution_count": null,
   "metadata": {},
   "outputs": [],
   "source": []
  }
 ],
 "metadata": {
  "interpreter": {
   "hash": "079ac39fb62028004b6c102b21e52b37161204aea65bac7151aba05c8911217c"
  },
  "kernelspec": {
   "display_name": "Python 3.7.9 64-bit",
   "language": "python",
   "name": "python3"
  },
  "language_info": {
   "codemirror_mode": {
    "name": "ipython",
    "version": 3
   },
   "file_extension": ".py",
   "mimetype": "text/x-python",
   "name": "python",
   "nbconvert_exporter": "python",
   "pygments_lexer": "ipython3",
   "version": "3.7.9"
  },
  "orig_nbformat": 4
 },
 "nbformat": 4,
 "nbformat_minor": 2
}
